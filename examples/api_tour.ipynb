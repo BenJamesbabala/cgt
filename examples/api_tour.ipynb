{
 "cells": [
  {
   "cell_type": "markdown",
   "metadata": {},
   "source": [
    "In CGT, as in Theano, we first create symbolic variables for the inputs to the computation.\n",
    "Then we construct expressions out of these variables.\n",
    "To start simple, let's consider a linear least squares problem, $y_{pred} = Xw + b, \\ \\  \\mathrm{loss} = \\|y - y_{pred}\\|^2$; here $W,b$ are the parameters of our linear model, and we are trying to predict $y$ using $X$."
   ]
  },
  {
   "cell_type": "code",
   "execution_count": null,
   "metadata": {
    "collapsed": false,
    "scrolled": false
   },
   "outputs": [],
   "source": [
    "import cgt, numpy as np, numpy.random as nr\n",
    "X_nk = cgt.matrix(\"X\")\n",
    "y_n = cgt.vector(\"y\")\n",
    "w_k = cgt.vector(\"w\")\n",
    "b = cgt.scalar(\"b\")\n",
    "ypred_n = X_nk.dot(w_k) + b\n",
    "loss = cgt.sum(cgt.square(ypred_n - y_n))\n",
    "cgt.print_expr(loss)"
   ]
  },
  {
   "cell_type": "markdown",
   "metadata": {},
   "source": [
    "In the first four variables, we created ``Argument``s, ``X_nk, y_n, w_k, b``.\n",
    "Then, we constructed more complex expressions by applying functions to these symbolic variables.\n",
    "\n",
    "You can find the functions by inspecting at the `cgt` namespace (type `cgt.<tab>`), and you'll find lots of familiar NumPy functions. Note that these symbolic variables have some of the same attributes as NumPy arrays."
   ]
  },
  {
   "cell_type": "code",
   "execution_count": null,
   "metadata": {
    "collapsed": false,
    "scrolled": true
   },
   "outputs": [],
   "source": [
    "print X_nk.ndim, X_nk.shape, X_nk.dtype"
   ]
  },
  {
   "cell_type": "markdown",
   "metadata": {},
   "source": [
    "Now that we've constructed the loss function, we can construct `function`s that compute the loss function and its gradient."
   ]
  },
  {
   "cell_type": "code",
   "execution_count": null,
   "metadata": {
    "collapsed": false
   },
   "outputs": [],
   "source": [
    "g = cgt.grad(loss, [w_k, b])\n",
    "\n",
    "f_loss = cgt.function1([X_nk, y_n, w_k, b], loss) # Use cgt.function1 for a single output\n",
    "f_grads = cgt.function([X_nk, y_n, w_k, b], [w_k, b]) # Use cgt.function for a list of outputs\n",
    "\n",
    "# Generate some random data\n",
    "Xval = nr.randn(100,3)\n",
    "yval = nr.randn(100)\n",
    "# Initialize parameters\n",
    "wval = nr.randn(3)\n",
    "bval = nr.randn()\n",
    "\n",
    "np.set_printoptions(precision=3)\n",
    "print \"loss:\", f_loss(Xval, yval, wval, bval)\n",
    "print \"grad:\", f_grads(Xval, yval, wval, bval)"
   ]
  }
 ],
 "metadata": {
  "kernelspec": {
   "display_name": "Python 2",
   "language": "python",
   "name": "python2"
  },
  "language_info": {
   "codemirror_mode": {
    "name": "ipython",
    "version": 2
   },
   "file_extension": ".py",
   "mimetype": "text/x-python",
   "name": "python",
   "nbconvert_exporter": "python",
   "pygments_lexer": "ipython2",
   "version": "2.7.10"
  }
 },
 "nbformat": 4,
 "nbformat_minor": 0
}
