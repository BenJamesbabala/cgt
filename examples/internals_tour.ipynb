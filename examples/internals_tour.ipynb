{
 "cells": [
  {
   "cell_type": "markdown",
   "metadata": {},
   "source": [
    "Let's look at the least square problem we constructed above"
   ]
  },
  {
   "cell_type": "code",
   "execution_count": null,
   "metadata": {
    "collapsed": false
   },
   "outputs": [],
   "source": [
    "import cgt\n",
    "X_nk = cgt.matrix(\"X\")\n",
    "y_n = cgt.vector(\"y\")\n",
    "w_k = cgt.vector(\"w\")\n",
    "b = cgt.scalar(\"b\")\n",
    "ypred_n = X_nk.dot(w_k) + b\n",
    "loss = cgt.sum(cgt.square(ypred_n - y_n))"
   ]
  },
  {
   "cell_type": "markdown",
   "metadata": {},
   "source": [
    "Internally, CGT represents the loss function, as well as other expressions, using a directed acyclic graph called the **expression graph**. \n",
    "In the expression graph, each node corresponds to an intermediate result and the operation that was performed to obtain it.\n",
    "\n",
    "The graph is made up of two kinds of nodes: `Input` and `Result`. \n",
    "`Input` nodes correspond to values that are set externally, while `Result` node correspond to intermediate values in the computation, computed from zero-or-more preceding nodes."
   ]
  },
  {
   "cell_type": "markdown",
   "metadata": {},
   "source": [
    "Below is a representation of the expression graph above.\n",
    "(TODO: we should show DAG plot here instead of the tree, maybe using dot for layout)"
   ]
  },
  {
   "cell_type": "code",
   "execution_count": null,
   "metadata": {
    "collapsed": false
   },
   "outputs": [],
   "source": [
    "cgt.display.print_text(loss);"
   ]
  },
  {
   "cell_type": "markdown",
   "metadata": {},
   "source": [
    "\n",
    "\n",
    "\n"
   ]
  },
  {
   "cell_type": "code",
   "execution_count": null,
   "metadata": {
    "collapsed": false
   },
   "outputs": [],
   "source": [
    "# We can inspect the python objects involved.\n",
    "print loss\n",
    "\n",
    "print \"loss:\",loss, loss.parents\n",
    "print \"loss.parents[0]:\",loss.parents[0], loss.parents[0].parents"
   ]
  },
  {
   "cell_type": "code",
   "execution_count": null,
   "metadata": {
    "collapsed": false
   },
   "outputs": [],
   "source": [
    "grads = cgt.grad(loss, [w_k,b])\n",
    "cgt.display.print_text(grads)"
   ]
  },
  {
   "cell_type": "code",
   "execution_count": null,
   "metadata": {
    "collapsed": false
   },
   "outputs": [],
   "source": [
    "grads = cgt.simplify(grads)\n",
    "cgt.display.print_text(grads);"
   ]
  },
  {
   "cell_type": "code",
   "execution_count": null,
   "metadata": {
    "collapsed": false,
    "scrolled": false
   },
   "outputs": [],
   "source": [
    "inputs = [X_nk, y_n, w_k, b]\n",
    "outputs = [loss]\n",
    "interpreter = cgt.execution.compilation_pipeline(inputs, outputs,[])\n",
    "eg = interpreter.eg\n",
    "import pprint\n",
    "pprint.pprint(eg.to_json())"
   ]
  }
 ],
 "metadata": {
  "kernelspec": {
   "display_name": "Python 2",
   "language": "python",
   "name": "python2"
  },
  "language_info": {
   "codemirror_mode": {
    "name": "ipython",
    "version": 2
   },
   "file_extension": ".py",
   "mimetype": "text/x-python",
   "name": "python",
   "nbconvert_exporter": "python",
   "pygments_lexer": "ipython2",
   "version": "2.7.10"
  }
 },
 "nbformat": 4,
 "nbformat_minor": 0
}
