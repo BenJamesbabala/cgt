{
 "cells": [
  {
   "cell_type": "code",
   "execution_count": 1,
   "metadata": {
    "collapsed": true,
    "scrolled": false
   },
   "outputs": [],
   "source": [
    "import cgt, numpy as np, numpy.random as nr\n",
    "X_nk = cgt.matrix(\"X\")\n",
    "y_n = cgt.vector(\"y\")\n",
    "w_k = cgt.vector(\"w\")\n",
    "b = cgt.scalar(name=\"b\")\n",
    "ypred_n = X_nk.dot(w_k) + b\n",
    "loss = cgt.sum(cgt.square(ypred_n - y_n))"
   ]
  },
  {
   "cell_type": "code",
   "execution_count": 2,
   "metadata": {
    "collapsed": false,
    "scrolled": true
   },
   "outputs": [
    {
     "name": "stdout",
     "output_type": "stream",
     "text": [
      "reshape(sum{0}(square(((X × w + b) - y))))\n"
     ]
    }
   ],
   "source": [
    "cgt.display.print_expr(loss);"
   ]
  },
  {
   "cell_type": "code",
   "execution_count": 3,
   "metadata": {
    "collapsed": false
   },
   "outputs": [
    {
     "name": "stdout",
     "output_type": "stream",
     "text": [
      "\u001b[31mRes{reshape}@0\u001b[0m\n",
      "| \u001b[31mRes{sum{0}}@1\u001b[0m\n",
      "| | \u001b[31mRes{square}@2\u001b[0m\n",
      "| | | \u001b[31mRes{subtract}@3\u001b[0m\n",
      "| | | | \u001b[31mRes{add}@4\u001b[0m\n",
      "| | | | | \u001b[31mRes{mul21}@5\u001b[0m\n",
      "| | | | | | \u001b[32mX@6\u001b[0m\n",
      "| | | | | | \u001b[32mw@7\u001b[0m\n",
      "| | | | | \u001b[32mb@8\u001b[0m\n",
      "| | | | \u001b[32my@9\u001b[0m\n"
     ]
    }
   ],
   "source": [
    "cgt.display.print_tree(loss);"
   ]
  },
  {
   "cell_type": "code",
   "execution_count": 4,
   "metadata": {
    "collapsed": false
   },
   "outputs": [
    {
     "name": "stdout",
     "output_type": "stream",
     "text": [
      "Argument: @0\n",
      "Argument: @1\n",
      "@2 = mul21 @0 @1\n",
      "Argument: @3\n",
      "@4 = add @2 @3\n",
      "Argument: @5\n",
      "@6 = subtract @4 @5\n",
      "@7 = square @6\n",
      "@8 = sum{0} @7\n",
      "@9 = reshape @8\n"
     ]
    }
   ],
   "source": [
    "cgt.display.print_text(loss);"
   ]
  },
  {
   "cell_type": "code",
   "execution_count": 6,
   "metadata": {
    "collapsed": false
   },
   "outputs": [
    {
     "name": "stdout",
     "output_type": "stream",
     "text": [
      "\u001b[31mRes{mul21}@0\u001b[0m\n",
      "| \u001b[32mX@1\u001b[0m\n",
      "| \u001b[31mRes{multiply}@2\u001b[0m\n",
      "| | \u001b[31mRes{multiply}@3\u001b[0m\n",
      "| | | \u001b[31mRes{repeat}@4\u001b[0m\n",
      "| | | | \u001b[31mRes{reshape}@5\u001b[0m\n",
      "| | | | | \u001b[31mRes{const{1.0}}@6\u001b[0m\n",
      "| | | | | \u001b[31mRes{size{0}}@7\u001b[0m\n",
      "| | | | | | \u001b[31mRes{sum{0}}@8\u001b[0m\n",
      "| | | | | | | \u001b[31mRes{square}@9\u001b[0m\n",
      "| | | | | | | | \u001b[31mRes{subtract}@10\u001b[0m\n",
      "| | | | | | | | | \u001b[31mRes{add}@11\u001b[0m\n",
      "| | | | | | | | | | \u001b[31mRes{mul21}@12\u001b[0m\n",
      "| | | | | | | | | | | \u001b[32mX@1\u001b[0m\n",
      "| | | | | | | | | | | \u001b[32mw@13\u001b[0m\n",
      "| | | | | | | | | | \u001b[32mb@14\u001b[0m\n",
      "| | | | | | | | | \u001b[32my@15\u001b[0m\n",
      "| | | | \u001b[31mRes{size{0}}@16\u001b[0m\n",
      "| | | | | \u001b[31mRes{square}@9\u001b[0m (see above)\n",
      "| | | \u001b[31mRes{const{2.0}}@17\u001b[0m\n",
      "| | \u001b[31mRes{subtract}@10\u001b[0m (see above)\n",
      "\u001b[31mRes{reshape}@18\u001b[0m\n",
      "| \u001b[31mRes{sum{0}}@19\u001b[0m\n",
      "| | \u001b[31mRes{multiply}@2\u001b[0m (see above)\n"
     ]
    }
   ],
   "source": [
    "grads = cgt.grad(loss, [w_k,b])\n",
    "cgt.display.print_tree(grads);"
   ]
  },
  {
   "cell_type": "code",
   "execution_count": 7,
   "metadata": {
    "collapsed": false
   },
   "outputs": [
    {
     "name": "stdout",
     "output_type": "stream",
     "text": [
      "\u001b[31mRes{mul21}@0\u001b[0m\n",
      "| \u001b[32mX@1\u001b[0m\n",
      "| \u001b[31mRes{multiply}@2\u001b[0m\n",
      "| | \u001b[31mRes{fill{2}}@3\u001b[0m\n",
      "| | | \u001b[31mRes{size{0}}@4\u001b[0m\n",
      "| | | | \u001b[32mX@1\u001b[0m\n",
      "| | \u001b[31mRes{subtract}@5\u001b[0m\n",
      "| | | \u001b[31mRes{add}@6\u001b[0m\n",
      "| | | | \u001b[31mRes{mul21}@7\u001b[0m\n",
      "| | | | | \u001b[32mX@1\u001b[0m\n",
      "| | | | | \u001b[32mw@8\u001b[0m\n",
      "| | | | \u001b[32mb@9\u001b[0m\n",
      "| | | \u001b[32my@10\u001b[0m\n",
      "\u001b[31mRes{reshape}@11\u001b[0m\n",
      "| \u001b[31mRes{sum{0}}@12\u001b[0m\n",
      "| | \u001b[31mRes{multiply}@2\u001b[0m (see above)\n",
      "Xᵗ × (fill{2}(size{0}(X)) * ((X × w + b) - y))\n"
     ]
    }
   ],
   "source": [
    "grads = cgt.simplify(grads)\n",
    "cgt.print_tree(grads);\n",
    "cgt.print_expr(grads[0]);"
   ]
  },
  {
   "cell_type": "code",
   "execution_count": 8,
   "metadata": {
    "collapsed": false,
    "scrolled": false
   },
   "outputs": [
    {
     "name": "stdout",
     "output_type": "stream",
     "text": [
      "{'instrs': [{'ind': 0, 'type': 'LoadArgument', 'write_loc': 0},\n",
      "            {'op': 'size{0}',\n",
      "             'read_locs': [0],\n",
      "             'type': 'ValReturning',\n",
      "             'write_loc': 1},\n",
      "            {'op': 'size{1}',\n",
      "             'read_locs': [0],\n",
      "             'type': 'ValReturning',\n",
      "             'write_loc': 2},\n",
      "            {'ind': 2, 'type': 'LoadArgument', 'write_loc': 3},\n",
      "            {'op': 'size{0}',\n",
      "             'read_locs': [3],\n",
      "             'type': 'ValReturning',\n",
      "             'write_loc': 4},\n",
      "            {'op': 'size{0}',\n",
      "             'read_locs': [0],\n",
      "             'type': 'ValReturning',\n",
      "             'write_loc': 5},\n",
      "            {'read_locs': [5], 'type': 'Alloc', 'write_loc': 6},\n",
      "            {'op': 'mul21',\n",
      "             'read_locs': [0, 3],\n",
      "             'type': 'InPlace',\n",
      "             'write_loc': 6},\n",
      "            {'op': 'size{0}',\n",
      "             'read_locs': [6],\n",
      "             'type': 'ValReturning',\n",
      "             'write_loc': 7},\n",
      "            {'ind': 1, 'type': 'LoadArgument', 'write_loc': 8},\n",
      "            {'op': 'size{0}',\n",
      "             'read_locs': [8],\n",
      "             'type': 'ValReturning',\n",
      "             'write_loc': 9},\n",
      "            {'ind': 3, 'type': 'LoadArgument', 'write_loc': 10},\n",
      "            {'read_locs': [7], 'type': 'Alloc', 'write_loc': 11},\n",
      "            {'op': 'add',\n",
      "             'read_locs': [6, 10],\n",
      "             'type': 'InPlace',\n",
      "             'write_loc': 11},\n",
      "            {'op': 'size{0}',\n",
      "             'read_locs': [11],\n",
      "             'type': 'ValReturning',\n",
      "             'write_loc': 12},\n",
      "            {'read_locs': [12], 'type': 'Alloc', 'write_loc': 13},\n",
      "            {'op': 'subtract',\n",
      "             'read_locs': [11, 8],\n",
      "             'type': 'InPlace',\n",
      "             'write_loc': 13},\n",
      "            {'op': 'size{0}',\n",
      "             'read_locs': [13],\n",
      "             'type': 'ValReturning',\n",
      "             'write_loc': 14},\n",
      "            {'read_locs': [], 'type': 'Alloc', 'write_loc': 15},\n",
      "            {'op': 'const{1}',\n",
      "             'read_locs': [],\n",
      "             'type': 'InPlace',\n",
      "             'write_loc': 15},\n",
      "            {'read_locs': [14], 'type': 'Alloc', 'write_loc': 16},\n",
      "            {'op': 'square',\n",
      "             'read_locs': [13],\n",
      "             'type': 'InPlace',\n",
      "             'write_loc': 16},\n",
      "            {'read_locs': [15], 'type': 'Alloc', 'write_loc': 17},\n",
      "            {'op': 'sum{0}',\n",
      "             'read_locs': [16],\n",
      "             'type': 'InPlace',\n",
      "             'write_loc': 17},\n",
      "            {'op': 'reshape',\n",
      "             'read_locs': [17],\n",
      "             'type': 'ValReturning',\n",
      "             'write_loc': 18}],\n",
      " 'n_mem': 19,\n",
      " 'output_locs': [18]}\n"
     ]
    }
   ],
   "source": [
    "inputs = [X_nk, y_n, w_k, b]\n",
    "outputs = [loss]\n",
    "eg = cgt.make_execution_graph(inputs, outputs)\n",
    "import pprint\n",
    "pprint.pprint(eg.to_json())"
   ]
  },
  {
   "cell_type": "code",
   "execution_count": null,
   "metadata": {
    "collapsed": true
   },
   "outputs": [],
   "source": []
  }
 ],
 "metadata": {
  "kernelspec": {
   "display_name": "Python 2",
   "language": "python",
   "name": "python2"
  },
  "language_info": {
   "codemirror_mode": {
    "name": "ipython",
    "version": 2
   },
   "file_extension": ".py",
   "mimetype": "text/x-python",
   "name": "python",
   "nbconvert_exporter": "python",
   "pygments_lexer": "ipython2",
   "version": "2.7.10"
  }
 },
 "nbformat": 4,
 "nbformat_minor": 0
}
